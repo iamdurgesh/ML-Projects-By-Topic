{
  "cells": [
    {
      "cell_type": "code",
      "execution_count": 2,
      "metadata": {
        "id": "t4-pwR9e2mpY"
      },
      "outputs": [],
      "source": [
        "import tensorflow as tf\n"
      ]
    },
    {
      "cell_type": "code",
      "source": [
        "shakespeare_url = \"https://homl.info/shakespeare\"\n",
        "filepath = tf.keras.utils.get_file(\"shakespeare.txt\", shakespeare_url)\n",
        "with open(filepath) as f:\n",
        "  shakespeare_text = f.read()"
      ],
      "metadata": {
        "colab": {
          "base_uri": "https://localhost:8080/"
        },
        "id": "UOgY-8_F2qpS",
        "outputId": "d0e54d65-ded3-4c87-cd34-244df1e79c70"
      },
      "execution_count": 4,
      "outputs": [
        {
          "output_type": "stream",
          "name": "stdout",
          "text": [
            "Downloading data from https://homl.info/shakespeare\n",
            "\u001b[1m1115394/1115394\u001b[0m \u001b[32m━━━━━━━━━━━━━━━━━━━━\u001b[0m\u001b[37m\u001b[0m \u001b[1m0s\u001b[0m 0us/step\n"
          ]
        }
      ]
    },
    {
      "cell_type": "code",
      "execution_count": 6,
      "metadata": {
        "colab": {
          "base_uri": "https://localhost:8080/"
        },
        "id": "nw2TUgU-2mpl",
        "outputId": "2eaad594-776e-479a-c179-27861c3de355"
      },
      "outputs": [
        {
          "output_type": "stream",
          "name": "stdout",
          "text": [
            "First Citizen:\n",
            "Before we proceed any further, hear me speak.\n",
            "\n",
            "All:\n",
            "Speak, speak.\n",
            "\n",
            "First Citizen:\n",
            "You are all resolved rather to die than to famish?\n",
            "\n",
            "All:\n",
            "Resolved. resolved.\n",
            "\n",
            "First Citizen:\n",
            "First, you know Caius Marcius is chief enemy to the people.\n",
            "\n",
            "All:\n",
            "We know't, we know't.\n",
            "\n",
            "First Citizen:\n",
            "Let us kill him, and we'll have corn at our own price.\n",
            "Is't a verdict?\n",
            "\n",
            "All:\n",
            "No more talking on't; let it be done: away, away!\n",
            "\n",
            "Second Citizen:\n",
            "One word, good citizens.\n",
            "\n",
            "First Citizen:\n",
            "We are accounted poor\n"
          ]
        }
      ],
      "source": [
        "print(shakespeare_text[:500])"
      ]
    },
    {
      "cell_type": "code",
      "source": [
        "# text to vector conversion for encoding\n",
        "text_vec_layer = tf.keras.layers.TextVectorization(split=\"character\", standardize=\"lower\")\n",
        "text_vec_layer.adapt([shakespeare_text])\n",
        "encoded = text_vec_layer([shakespeare_text])[0]"
      ],
      "metadata": {
        "id": "1bHsrXJC35OI"
      },
      "execution_count": 8,
      "outputs": []
    },
    {
      "cell_type": "code",
      "source": [
        "# removing token 0 and 1\n",
        "encoded -= 2  # droping tokens 0(padding) & 1(unknown chars), which we will not use\n",
        "n_tokens = text_vec_layer.vocabulary_size() - 2 #number of distinct chars = 39\n",
        "dataset_size = len(encoded)\n",
        "print(dataset_size)\n",
        "print(len(sorted(list(set(shakespeare_text)))))"
      ],
      "metadata": {
        "colab": {
          "base_uri": "https://localhost:8080/"
        },
        "id": "mLrI1gss40Gf",
        "outputId": "9647ffe5-cfba-445a-8daa-86a74a6c5f71"
      },
      "execution_count": 17,
      "outputs": [
        {
          "output_type": "stream",
          "name": "stdout",
          "text": [
            "1115394\n",
            "65\n"
          ]
        }
      ]
    },
    {
      "cell_type": "code",
      "source": [
        "#converting a long sequence of character IDs into a dataset of input/target window pairs:\n",
        "def to_dataset(sequence, length, shuffle=False, seed=None, batch_size=32):\n",
        "  ds = tf.data.Dataset.from_tensor_slices(sequence)\n",
        "  ds = ds.window(length+1, shift=1, drop_remainder=True)\n",
        "  ds = ds.flat_map(lambda window_ds: window_ds.batch(length + 1))\n",
        "  if shuffle:\n",
        "    ds = ds.shuffle(buffer_size=100_000, seed=seed)\n",
        "  ds = ds.batch(batch_size)\n",
        "  return ds.map(lambda window: (window[:, :-1], window[:, 1:])).prefetch(1)"
      ],
      "metadata": {
        "id": "cKNlkn5m6xR5"
      },
      "execution_count": 24,
      "outputs": []
    },
    {
      "cell_type": "code",
      "source": [
        "# Creating Training, test & Validation Set\n",
        "length = 100\n",
        "tf.random.set_seed(42)\n",
        "train_set = to_dataset(encoded[:1_00_000], length=length, shuffle=True, seed=42)\n",
        "valid_set = to_dataset(encoded[1_00_000:1_060_000], length=length)\n",
        "test_set = to_dataset(encoded[1_060_000:], length=length)"
      ],
      "metadata": {
        "id": "agm6cwA_-T15"
      },
      "execution_count": 25,
      "outputs": []
    },
    {
      "cell_type": "code",
      "source": [
        "# Buildin and Training the Char-RNN Model\n",
        "model = tf.keras.Sequential([tf.keras.layers.Embedding(input_dim=n_tokens, output_dim=16),\n",
        "                             tf.keras.layers.GRU(128, return_sequences=True),\n",
        "                             tf.keras.layers.Dense(n_tokens, activation=\"softmax\")])\n",
        "model.compile(loss=\"sparse_categorical_crossentropy\", optimizer=\"nadam\", metrics=[\"accuracy\"])\n",
        "model_ckpt = tf.keras.callbacks.ModelCheckpoint(\n",
        "    \"my_shakespeare_model.keras\", monitor=\"val_accuracy\", save_best_only=True\n",
        ")\n",
        "history = model.fit(train_set, validation_data=valid_set, epochs=10, callbacks=[model_ckpt])"
      ],
      "metadata": {
        "colab": {
          "base_uri": "https://localhost:8080/",
          "height": 1000
        },
        "id": "ZRehnX3DA2gP",
        "outputId": "28690ffd-e294-46dd-ddec-7a185084526a"
      },
      "execution_count": 29,
      "outputs": [
        {
          "output_type": "stream",
          "name": "stdout",
          "text": [
            "Epoch 1/10\n"
          ]
        },
        {
          "output_type": "error",
          "ename": "InvalidArgumentError",
          "evalue": "Graph execution error:\n\nDetected at node compile_loss/sparse_categorical_crossentropy/SparseSoftmaxCrossEntropyWithLogits/SparseSoftmaxCrossEntropyWithLogits defined at (most recent call last):\n  File \"/usr/lib/python3.10/runpy.py\", line 196, in _run_module_as_main\n\n  File \"/usr/lib/python3.10/runpy.py\", line 86, in _run_code\n\n  File \"/usr/local/lib/python3.10/dist-packages/colab_kernel_launcher.py\", line 37, in <module>\n\n  File \"/usr/local/lib/python3.10/dist-packages/traitlets/config/application.py\", line 992, in launch_instance\n\n  File \"/usr/local/lib/python3.10/dist-packages/ipykernel/kernelapp.py\", line 619, in start\n\n  File \"/usr/local/lib/python3.10/dist-packages/tornado/platform/asyncio.py\", line 195, in start\n\n  File \"/usr/lib/python3.10/asyncio/base_events.py\", line 603, in run_forever\n\n  File \"/usr/lib/python3.10/asyncio/base_events.py\", line 1909, in _run_once\n\n  File \"/usr/lib/python3.10/asyncio/events.py\", line 80, in _run\n\n  File \"/usr/local/lib/python3.10/dist-packages/tornado/ioloop.py\", line 685, in <lambda>\n\n  File \"/usr/local/lib/python3.10/dist-packages/tornado/ioloop.py\", line 738, in _run_callback\n\n  File \"/usr/local/lib/python3.10/dist-packages/tornado/gen.py\", line 825, in inner\n\n  File \"/usr/local/lib/python3.10/dist-packages/tornado/gen.py\", line 786, in run\n\n  File \"/usr/local/lib/python3.10/dist-packages/ipykernel/kernelbase.py\", line 361, in process_one\n\n  File \"/usr/local/lib/python3.10/dist-packages/tornado/gen.py\", line 234, in wrapper\n\n  File \"/usr/local/lib/python3.10/dist-packages/ipykernel/kernelbase.py\", line 261, in dispatch_shell\n\n  File \"/usr/local/lib/python3.10/dist-packages/tornado/gen.py\", line 234, in wrapper\n\n  File \"/usr/local/lib/python3.10/dist-packages/ipykernel/kernelbase.py\", line 539, in execute_request\n\n  File \"/usr/local/lib/python3.10/dist-packages/tornado/gen.py\", line 234, in wrapper\n\n  File \"/usr/local/lib/python3.10/dist-packages/ipykernel/ipkernel.py\", line 302, in do_execute\n\n  File \"/usr/local/lib/python3.10/dist-packages/ipykernel/zmqshell.py\", line 539, in run_cell\n\n  File \"/usr/local/lib/python3.10/dist-packages/IPython/core/interactiveshell.py\", line 2975, in run_cell\n\n  File \"/usr/local/lib/python3.10/dist-packages/IPython/core/interactiveshell.py\", line 3030, in _run_cell\n\n  File \"/usr/local/lib/python3.10/dist-packages/IPython/core/async_helpers.py\", line 78, in _pseudo_sync_runner\n\n  File \"/usr/local/lib/python3.10/dist-packages/IPython/core/interactiveshell.py\", line 3257, in run_cell_async\n\n  File \"/usr/local/lib/python3.10/dist-packages/IPython/core/interactiveshell.py\", line 3473, in run_ast_nodes\n\n  File \"/usr/local/lib/python3.10/dist-packages/IPython/core/interactiveshell.py\", line 3553, in run_code\n\n  File \"<ipython-input-29-704ef64e0ec2>\", line 9, in <cell line: 9>\n\n  File \"/usr/local/lib/python3.10/dist-packages/keras/src/utils/traceback_utils.py\", line 117, in error_handler\n\n  File \"/usr/local/lib/python3.10/dist-packages/keras/src/backend/tensorflow/trainer.py\", line 318, in fit\n\n  File \"/usr/local/lib/python3.10/dist-packages/keras/src/backend/tensorflow/trainer.py\", line 121, in one_step_on_iterator\n\n  File \"/usr/local/lib/python3.10/dist-packages/keras/src/backend/tensorflow/trainer.py\", line 108, in one_step_on_data\n\n  File \"/usr/local/lib/python3.10/dist-packages/keras/src/backend/tensorflow/trainer.py\", line 54, in train_step\n\n  File \"/usr/local/lib/python3.10/dist-packages/keras/src/trainers/trainer.py\", line 357, in _compute_loss\n\n  File \"/usr/local/lib/python3.10/dist-packages/keras/src/trainers/trainer.py\", line 325, in compute_loss\n\n  File \"/usr/local/lib/python3.10/dist-packages/keras/src/trainers/compile_utils.py\", line 609, in __call__\n\n  File \"/usr/local/lib/python3.10/dist-packages/keras/src/trainers/compile_utils.py\", line 645, in call\n\n  File \"/usr/local/lib/python3.10/dist-packages/keras/src/losses/loss.py\", line 43, in __call__\n\n  File \"/usr/local/lib/python3.10/dist-packages/keras/src/losses/losses.py\", line 27, in call\n\n  File \"/usr/local/lib/python3.10/dist-packages/keras/src/losses/losses.py\", line 1853, in sparse_categorical_crossentropy\n\n  File \"/usr/local/lib/python3.10/dist-packages/keras/src/ops/nn.py\", line 1567, in sparse_categorical_crossentropy\n\n  File \"/usr/local/lib/python3.10/dist-packages/keras/src/backend/tensorflow/nn.py\", line 645, in sparse_categorical_crossentropy\n\nReceived a label value of -10 which is outside the valid range of [0, 39).  Label values: 8 -7 -1 9 3 -3 -5 -7 -1 17 -3 -10 -1 -9 -6 -2 18 -10 -5 -10 8 -6 -1 -1 -7 -8 -10 -3 12 -9 -6 14 16 -10 5 -7 3 7 -10 -8 -2 -5 11 3 -1 -9 -3 0 -8 -7 -10 -8 -4 -9 -10 12 -9 -7 12 1 -9 20 -10 8 -7 -2 -5 -7 1 -6 -1 3 -3 7 -10 12 -6 -8 -5 -9 -1 8 -9 20 0 -3 12 -9 -6 14 7 -10 10 -7 -7 2 -10 -3 -5 8 -8 -3 -10 4 -7 -2 -9 -10 12 -2 -7 -7 9 -10 -8 -4 -6 -1 -10 -3 -4 -5 -9 1 2 -3 16 -10 -6 2 15 -6 -1 8 -9 7 0 11 -2 -6 15 -9 -10 -8 -5 -8 3 -3 13 0 -8 -4 -9 5 -10 2 -7 -10 2 -5 -3 2 -6 -5 -1 -10 3 -3 -10 4 3 8 -4 -10 11 -9 5 -7 -1 2 -10 -7 3 -2 -10 -8 -4 -7 3 10 -4 -8 -3 7 0 6 -4 -5 8 -4 -8 -9 -2 -10 9 -7 -2 -10 5 -7 3 18 -10 -5 -10 -3 -6 6 17 -8 16 0 0 4 -9 -1 -9 -1 -5 3 -3 13 0 -6 -10 1 -9 -8 -8 -9 -2 -10 9 -7 -2 -10 4 -9 20 -10 -5 -8 -10 10 -5 15 -9 -3 -10 4 -9 -10 -6 -1 -10 -9 -3 -8 -6 -8 -9 -10 -7 9 -10 -3 -9 15 -9 -1 0 5 -9 -6 -2 -3 17 -10 -4 -9 -6 1 -8 -4 18 -10 -5 -1 -10 6 15 -6 1 -9 -2 -5 -6 13 0 -4 -7 6 -10 2 -7 -10 5 -7 3 -10 11 -7 -8 -4 19 -10 5 -7 3 -10 -6 -2 -9 -10 4 -6 -1 -5 9 -9 -3 -8 -10 -4 -7 3 -3 -9 21 14 -9 -9 12 -9 -2 -3 16 0 6 -4 -6 -8 -10 -6 -2 -9 -10 5 -7 3 -10 -3 -9 6 -5 -1 10 -10 -4 -9 -2 -9 19 -10 -6 -10 9 -5 -1 -9 -10 -3 12 -7 -8 7 -10 -5 -1 -10 -1 2 -10 -6 -3 -10 6 -4 -9 -1 -10 -5 -10 6 -7 -7 17 2 7 -10 -5 -1 -10 -4 -9 -6 -2 -8 0 -6 -3 -10 4 -9 -2 -2 5 -10 -6 -3 -10 6 -4 -9 -1 -10 -7 3 -2 -10 -1 3 12 -8 -5 -6 1 -10 2 -6 5 -10 6 -6 -3 -10 2 -7 -1 -9 7 0 -6 -1 2 -10 -8 -6 12 -9 -2 -3 -10 11 3 -2 -1 17 2 -10 -8 -7 -10 11 -9 2 6 -6 -2 2 -10 -8 3 -1 -9 -10 -7 9 -10 5 -7 3 -2 0 15 -7 -5 8 -9 -3 -10 -8 -4 -6 -8 -10 -5 -10 4 -6 5 -10 11 -9 -10 8 -7 -1 -3 3 1 7 -10 -5 -10 -4 -6 15 -9 -10 -4 -9 -2 -9 -10 -8 -4 -9 0 8 3 -3 -8 -7 4 -6 -2 5 -10 10 -7 6 -1 16 0 0 9 -7 3 -2 -8 -4 -10 8 -5 -8 -5 25 -9 -1 13 0 5 -7 3 -10 -4 -6 15 -9 -8 -4 -9 4 16 -10 -5 -3 -10 -8 -4 -9 -10 -3 -9 -1 -6 -8 -9 -10 12 -7 -3 -3 -9 -3 -3 -9 2 -10 -7 9 -10 -8 -4 -5 -3 19 0 0 15 -7 1 3 4 -1 -5 -6 13 0 10 -7 -7 2 -10 1 -6 2 -5 -9 -3 7 -10 1 -9 -8 17 -3 -10 10 -7 16 -10 5 -9 -3 7 -10 5 -9 -3 7 -10 5 -9 -3 18 -10 -8 -4 -9 -10 -3 -9 -1 -6 -8 -9 0 -4 20 -10 12 1 3 -8 -7 -10 -6 -1 2 -10 -4 -9 1 1 20 0 -6 1 1 -10 -4 3 -2 -8 -10 11 -9 -4 -5 -1 2 18 -10 11 -6 8 14 -3 -10 -2 -9 2 7 -10 -6 -1 2 -10 9 -6 8 -9 -3 -10 12 -6 1 -9 0 6 -5 -8 -4 -10 9 1 -5 10 -4 -8 -10 -6 -1 2 -10 -6 10 3 -9 2 -10 9 -9 -6 -2 20 -10 4 -9 -1 2 -10 -6 -1 2 -10 8 -4 -1 2 -10 10 -5 15 -9 -10 -7 3 -8 0 8 -7 -1 22 -9 8 -8 3 -2 -6 1 -10 4 -6 -2 -2 -5 -6 10 -9 -3 18 -10 4 -6 14 -5 -1 10 -10 12 -6 -2 -8 -5 -9 -3 -10 -3 -8 -2 -7 -1 10 0 -6 -1 2 -10 9 -9 -9 11 1 -5 -1 10 -10 -3 3 8 -4 -10 -6 -3 -10 -3 -8 -6 -1 2 -10 -1 -7 -8 -10 -5 -1 -10 -8 -4 -9 -5 -2 -10 1 -5 14 -1 -7 -8 -10 -6 -10 2 -2 -7 12 -10 -7 9 -10 -6 1 1 -6 5 -5 -1 10 0 -8 -5 11 -9 -2 -10 -5 -1 17 -8 18 -10 -3 -6 -5 2 -10 -8 -7 -10 11 -9 -10 -3 -7 4 -9 -8 -4 -5 -1 10 -10 -5 4 12 -9 -2 9 -9 8 -8 -10 -5 -1 0 9 -6 15 -7 3 -2 -5 -1 10 -10 -8 -4 -9 -10 9 -5 -2 -3 -8 -10 8 -7 4 12 1 -6 -5 -1 -8 18 -10 5 7 -10 5 -7 3 -2 -10 12 -2 -5 8 -9 -10 -7 17 -10 -8 -4 -9 -10 8 -7 -1 -3 3 1 -3 -4 -5 12 19 0 0 9 -5 -2 -3 -8 -10 8 -5 -8 -5 25 -9 -1 13 0 -8 -4 -9 -10 12 -2 -5 8 -9 -10 -5 -3 -10 -8 -7 -10 -6 -3 14 -10 -5 -8 -10 14 -5 -1 2 1 5 16 0 0 8 -7 -2 -5 -7 1 -6 -1 3 -3 13 0 14 -5 -1 2 1 5 20 2 -10 -6 -1 2 -10 -8 -5 -8 3 -3 -10 1 -6 -2 -8 -5 3 -3 -10 -6 -2 -9 -10 -3 -9 -8 0 2 -7 6 -1 -10 11 -9 9 -7 -2 -9 -10 -8 -4 -9 -5 -2 -10 8 -5 -8 5 -10 8 -7 -2 -5 -7 1 -5 18 -10 -8 -4 -9 5 -10 -1 -7 -8 -4 -5 -1 10 -10 2 -7 3 11 -8 0 12 -2 -9 15 -6 -5 1 -5 -1 10 -10 -6 -1 2 -10 -8 -7 -10 4 -6 14 -6 -1 3 -3 13 0 -8 -4 -9 -10 10 -7 2 -3 -10 11 -9 10 -5 -1 -10 -8 -7 -10 4 -7 8 14 -10 4 -9 16 -10 -5 7 -10 -8 -4 -6 -8 -10 -1 -7 6 0 -2 -9 9 3 -3 -9 2 -10 4 -7 -3 -8 -10 12 -2 -5 -1 8 -9 1 5 -10 10 -5 9 -8 -3 7 -10 -6 4 -10 11 -7 3 -1 2 -10 -8 -7 -10 11 -9 10 0 -7 9 -10 4 5 -10 1 -7 -2 2 -8 -4 -9 4 -10 -4 -7 4 -9 13 0 -3 -6 5 -10 -8 -4 -9 -5 -2 -10 10 -2 -9 -6 -8 -10 -9 -1 -9 4 5 -10 -5 -3 -10 10 -7 -1 -9 7 -10 -6 -1 2 -10 -8 -4 -9 5 0 -3 -8 -6 -1 2 -10 -5 -1 -10 -8 -4 -9 -5 -2 -10 -6 -1 8 -5 -9 -1 -8 -10 -3 -8 -2 -9 -1 10 -8 -4 16 0 0 11 -2 3 -8 3 -3 13 0 2 -5 -3 4 -5 -3 -3 7 -10 8 -6 1 1 17 2 -10 -8 -4 -9 4 0 -8 -5 4 -9 21 12 1 -9 -6 -3 -9 -2 -3 7 -10 9 1 -6 -8 -8 -9 -2 -9 -2 -3 7 -10 9 -7 -9 -3 -10 -8 -7 -10 -1 -7 11 1 -9 -1 -9 -3 -3 16 0 0 8 -7 -2 -5 -7 1 -6 -1 3 -3 13 0 6 -4 5 7 -10 -8 -4 -5 -3 -10 6 -6 -3 -10 14 -1 -7 6 -1 -10 11 -9 9 -7 -2 -9 16 -10 -8 -4 -9 -2 -9 9 -7 -2 -9 -10 -4 3 -2 -8 -10 -1 -7 -8 13 -10 11 3 -8 0 5 -7 3 -2 -10 12 -9 -7 12 1 -9 7 0 -5 -10 1 -7 15 -9 -10 -8 -4 -9 4 -10 -6 -3 -10 -8 -4 -9 5 -10 6 -9 -5 10 -4 16 0 0 4 -9 -1 -9 -1 -5 3 -3 13 0 12 -2 -6 5 -10 -1 -7 6 7 -10 -3 -5 -8 -10 2 -7 6 -1 16 0 0 8 -7 -2 -6 -2 -8 0 -6 -10 1 -5 -9 -10 -8 -4 -6 -8 -10 -5 -8 -10 4 3 -3 -8 -10 11 -9 -6 -2 19 -10 6 -9 1 1 7 -10 -5 -10 6 -5 1 1 -10 2 -7 17 -8 13 0 5 -9 -8 7 -10 6 -9 -2 -9 -10 -8 -4 -9 -2 -9 -10 11 3 -8 -10 -8 -4 -5 -3 -10 -3 -5 -1 10 1 -9 -10 12 1 -7 -8 -10 -8 -7 -10 1 -7 -3 -9 7 0 -8 -4 -5 -3 -10 4 -5 -3 8 1 -6 -5 4 -10 -8 -4 -9 -5 -2 -10 -8 -7 -1 10 3 -9 -3 19 -10 6 -4 -6 -8 -10 -6 -2 -9 0 5 -7 3 -2 -10 -7 9 9 -5 8 -9 -3 19 0 5 -7 3 -10 11 -9 -5 -1 10 -10 -8 -4 -9 -5 -2 -10 4 -7 3 -8 -4 -3 7 -10 6 -4 5 -10 -2 3 1 -9 -10 5 -7 3 -10 -1 -7 -8 -10 -8 -4 -9 -5 -2 -10 -8 -9 -9 -8 -4 19 0 1 -9 -10 -3 -9 -1 -6 -8 -9 7 -10 6 -4 -7 7 0 3 -1 2 -9 -2 -10 -8 -4 -9 -10 10 -7 2 -3 7 -10 14 -9 -9 12 -10 5 -7 3 -10 -5 -1 -10 -6 6 -9 7 -10 6 -4 -5 8 -4 -10 -9 1 -3 -9 0 6 -7 3 1 2 -10 9 -9 -9 2 -10 -7 -1 -10 -7 -1 -9 -10 -6 -1 -7 -8 -4 -9 -2 19 -10 6 -4 -6 -8 17 -3 -10 -8 -4 -9 -5 -2 -10 -7 3 -10 -8 -4 -9 -10 4 3 -8 -5 -1 -7 3 -3 -10 4 -9 4 11 -9 -2 -3 18 -10 9 -7 -2 -10 -9 24 -6 4 -5 -1 -9 0 -8 -4 -9 -5 -2 -10 8 -7 3 -1 -3 -9 1 -3 -10 -6 -1 2 -10 -8 -4 -9 -5 -2 -10 8 -6 -2 -9 -3 7 -10 2 -5 10 -9 -3 -8 -10 -8 -4 -5 -1 10 -3 -10 -2 -5 10 -4 -8 1 5 0 -8 -7 3 8 -4 -5 -1 10 -10 2 -7 -1 -10 4 -9 18 -10 -5 -1 2 -9 -9 2 7 -10 -5 -10 6 -5 1 1 -10 -1 -7 -8 -10 9 -7 -2 -8 -4 16 0 0 15 -6 1 -9 -2 -5 -6 13 0 -5 -1 -10 -8 -2 3 -8 -4 7 -10 1 -6 7 -10 10 -7 -10 6 -5 -8 -4 -10 4 -9 18 -10 -6 -1 2 -10 -5 17 1 1 -10 -8 -9 1 1 -10 5 -7 3 0 -9 24 8 -9 1 1 -9 -1 -8 -10 -1 -9 -5 -9 -1 2 -3 -10 -7 9 -10 -1 -7 11 1 -9 -10 -8 -7 3 8 -4 7 -10 6 -4 -9 -1 -10 -5 -10 -6 4 -10 9 -7 -2 -8 -4 7 0 11 -5 2 -10 4 -9 -10 9 -6 -2 -9 6 -9 1 1 7 -10 -6 -1 2 -10 -3 4 -5 1 -9 16 -10 -5 -10 12 -2 -6 5 -10 5 -7 3 7 -10 8 -7 4 -9 16 0 6 -4 -5 1 -9 -10 -5 -10 -2 -9 4 -6 -5 -1 -10 -1 -10 6 -7 3 1 2 -10 -4 -6 15 -9 -10 9 -7 3 -1 2 -10 -5 -3 -3 3 -9 16 -10 -4 -9 -6 -2 -10 4 -9 -10 12 -2 -7 9 -9 -3 -3 0 -3 -5 -1 8 -9 -2 -9 1 5 13 -10 -4 -6 2 -10 -5 -10 -6 -10 2 -7 25 -9 -1 -10 -3 -7 -1 -3 7 -10 -9 -6 8 -4 -10 -5 -1 -10 4 5 -10 1 -7 15 -9 0 -6 1 -5 14 -9 -10 -6 -1 2 -10 -1 0 -3 12 -9 -6 14 -10 11 -2 -5 -9 9 1 5 -10 -8 -4 -9 -1 18 0 9 -7 -2 -10 6 -9 -10 -6 -2 -9 -10 12 -9 -2 -9 4 12 -8 -7 -2 5 -10 -8 -7 -10 2 -5 -3 12 -6 -8 8 -4 0 -8 -4 -5 -3 -10 15 -5 12 -9 -2 -7 3 -3 -10 -8 -2 -6 -5 -8 -7 -2 13 -10 -8 -7 -10 -9 22 -9 8 -8 -10 -4 -5 4 -10 -4 -9 -1 8 -9 0 6 -9 -2 -9 -6 -2 -10 4 5 -10 -1 -7 -8 -4 -5 -1 10 -3 -10 4 -7 -1 -3 -8 -9 -2 17 2 16 0 0 4 -9 -1 -9 -1 -5 3 -3 13 0 4 -6 -3 -8 -9 -2 -3 -10 -7 9 -10 -8 -4 -9 -10 12 -9 -7 12 1 -9 7 0 5 -7 3 -2 -10 4 3 1 -8 -5 12 1 5 -5 -1 10 -10 -3 12 -6 6 -1 -10 -4 -7 6 -10 8 -6 -1 -10 -4 -9 -10 9 1 -6 -8 -8 16 0 0 8 -7 4 -5 -1 -5 3 -3 13 0 -4 -9 1 12 -10 4 -6 -2 8 -5 3 -3 7 -10 -4 -9 1 12 7 0 5 -7 3 -10 -8 -4 -6 -8 -10 11 -9 -10 -1 -7 11 1 -9 18 -10 -4 -9 1 12 -10 -4 -5 4 7 -10 5 -7 3 -1 10 -10 -6 -1 2 -10 -7 1 2 20 0 0 8 -5 -8 -5 25 -9 -1 -3 13 0 2 -7 6 -1 -10 6 -5 -8 -4 -10 -4 -5 -3 -9 -1 -6 -8 -7 -2 13 0 -6 4 -9 -1 7 -10 -6 4 -9 -1 16 0 0 4 -9 -1 -9 -1 -5 3 -3 13 0 -6 -10 -1 -7 11 1 -9 -10 6 -5 -3 -4 16 0 0 -3 -5 8 -5 -1 -5 3 -3 13 0 2 -2 -6 6 -10 -1 -9 -6 -2 7 -10 5 -9 -10 12 -9 -7 12 1 -9 16 0 0 -6 -9 2 -5 1 -9 13 0 1 -5 -3 -8 -10 -8 -7 -10 5 -7 3 -2 -1 -3 6 -9 -2 0 -6 -3 -10 -8 -2 -6 -5 -8 -7 -2 -3 -10 2 -7 16 0 0 8 -7 -2 -5 -7 1 -6 -1 3 -3 13 0 -8 -4 -7 3 -10 6 -2 -9 -8 8 -4 7 -10 2 -9 -3 12 -5 -8 -9 -10 -7 17 -9 -2 6 -4 -9 1 4 -10 -8 -4 -9 -9 20 0 6 -4 -6 -8 -10 -3 -4 -7 3 1 2 -10 -8 -4 -9 -10 12 -9 -7 12 1 -9 -10 2 -7 -10 6 -5 -9 -1 -9 -1 -5 3 -3 13 0 -2 -9 -8 3 -2 -1 -10 -8 -7 -10 -8 -4 -9 -10 -8 -2 -5 11 3 -1 -9 -3 16 0 0 8 -7 -2 -5 -7 1 -6 -1 3 -3 13 0 6 -9 1 1 7 -10 6 -4 -6 -8 -10 -8 -4 -9 -1 19 -10 6 -4 -6 -8 -10 -8 -4 -9 -1 19 0 0 4 -9 -1 -9 -1 -5 3 -3 13 0 -2 -9 12 -9 -1 -8 -10 6 -4 -6 -8 -10 5 -7 3 -1 -9 -10 -6 -1 2 -10 4 5 -10 10 -7 -7 2 0 4 -6 -2 8 -5 3 -3 7 -10 -5 -10 -4 -6 2 -10 -2 -6 -8 -4 -9 -2 -10 -4 -6 2 -10 -9 1 -9 15 -9 -1 -10 2 -5 -9 -10 -1 -7 11 1 5 -10 9 -7 -2 -10 -8 -4 -9 -5 -2 0 8 -7 3 -1 -8 -2 5 -10 -8 -4 -6 -1 -10 -7 -1 -9 -10 15 -7 1 3 12 -8 3 -7 3 -3 1 5 -10 -3 3 -7 -7 -2 -10 4 -6 -1 17 -3 -10 -4 -7 3 -3 -9 18 -10 -4 -9 -10 3 -3 -9 2 -10 4 -9 -10 14 -5 -1 2 1 5 13 0 -4 -9 -10 8 -2 -5 -9 2 -10 -8 -7 -10 4 -9 18 -10 -5 -10 -3 -6 6 -10 -4 -5 4 -10 12 -2 -5 -3 -7 -1 -9 -2 18 0 11 3 -8 -10 -8 -4 -9 -1 -10 -6 3 9 -5 2 -5 3 -3 -10 6 -6 -3 -10 6 -5 -8 -4 -5 -1 2 7 -10 -8 -4 -6 -1 -10 4 -5 -1 -9 -10 -7 6 -1 -10 1 -5 9 -9 7 0 4 5 -10 2 -9 -6 -2 -10 6 -5 9 -9 17 -3 -10 -9 -3 -8 -5 4 -6 -8 -9 7 -10 -4 -9 -2 -10 6 -7 4 11 17 -3 -10 -5 -1 8 -2 -9 -6 -3 -9 7 0 -6 -1 2 -10 -8 -2 -9 -6 -3 3 -2 -9 -10 -7 9 -10 4 5 -10 1 -7 -5 -1 -3 18 -10 -8 -4 -9 -1 -10\n\t [[{{node compile_loss/sparse_categorical_crossentropy/SparseSoftmaxCrossEntropyWithLogits/SparseSoftmaxCrossEntropyWithLogits}}]] [Op:__inference_one_step_on_iterator_3751]",
          "traceback": [
            "\u001b[0;31m---------------------------------------------------------------------------\u001b[0m",
            "\u001b[0;31mInvalidArgumentError\u001b[0m                      Traceback (most recent call last)",
            "\u001b[0;32m<ipython-input-29-704ef64e0ec2>\u001b[0m in \u001b[0;36m<cell line: 9>\u001b[0;34m()\u001b[0m\n\u001b[1;32m      7\u001b[0m     \u001b[0;34m\"my_shakespeare_model.keras\"\u001b[0m\u001b[0;34m,\u001b[0m \u001b[0mmonitor\u001b[0m\u001b[0;34m=\u001b[0m\u001b[0;34m\"val_accuracy\"\u001b[0m\u001b[0;34m,\u001b[0m \u001b[0msave_best_only\u001b[0m\u001b[0;34m=\u001b[0m\u001b[0;32mTrue\u001b[0m\u001b[0;34m\u001b[0m\u001b[0;34m\u001b[0m\u001b[0m\n\u001b[1;32m      8\u001b[0m )\n\u001b[0;32m----> 9\u001b[0;31m \u001b[0mhistory\u001b[0m \u001b[0;34m=\u001b[0m \u001b[0mmodel\u001b[0m\u001b[0;34m.\u001b[0m\u001b[0mfit\u001b[0m\u001b[0;34m(\u001b[0m\u001b[0mtrain_set\u001b[0m\u001b[0;34m,\u001b[0m \u001b[0mvalidation_data\u001b[0m\u001b[0;34m=\u001b[0m\u001b[0mvalid_set\u001b[0m\u001b[0;34m,\u001b[0m \u001b[0mepochs\u001b[0m\u001b[0;34m=\u001b[0m\u001b[0;36m10\u001b[0m\u001b[0;34m,\u001b[0m \u001b[0mcallbacks\u001b[0m\u001b[0;34m=\u001b[0m\u001b[0;34m[\u001b[0m\u001b[0mmodel_ckpt\u001b[0m\u001b[0;34m]\u001b[0m\u001b[0;34m)\u001b[0m\u001b[0;34m\u001b[0m\u001b[0;34m\u001b[0m\u001b[0m\n\u001b[0m",
            "\u001b[0;32m/usr/local/lib/python3.10/dist-packages/keras/src/utils/traceback_utils.py\u001b[0m in \u001b[0;36merror_handler\u001b[0;34m(*args, **kwargs)\u001b[0m\n\u001b[1;32m    120\u001b[0m             \u001b[0;31m# To get the full stack trace, call:\u001b[0m\u001b[0;34m\u001b[0m\u001b[0;34m\u001b[0m\u001b[0m\n\u001b[1;32m    121\u001b[0m             \u001b[0;31m# `keras.config.disable_traceback_filtering()`\u001b[0m\u001b[0;34m\u001b[0m\u001b[0;34m\u001b[0m\u001b[0m\n\u001b[0;32m--> 122\u001b[0;31m             \u001b[0;32mraise\u001b[0m \u001b[0me\u001b[0m\u001b[0;34m.\u001b[0m\u001b[0mwith_traceback\u001b[0m\u001b[0;34m(\u001b[0m\u001b[0mfiltered_tb\u001b[0m\u001b[0;34m)\u001b[0m \u001b[0;32mfrom\u001b[0m \u001b[0;32mNone\u001b[0m\u001b[0;34m\u001b[0m\u001b[0;34m\u001b[0m\u001b[0m\n\u001b[0m\u001b[1;32m    123\u001b[0m         \u001b[0;32mfinally\u001b[0m\u001b[0;34m:\u001b[0m\u001b[0;34m\u001b[0m\u001b[0;34m\u001b[0m\u001b[0m\n\u001b[1;32m    124\u001b[0m             \u001b[0;32mdel\u001b[0m \u001b[0mfiltered_tb\u001b[0m\u001b[0;34m\u001b[0m\u001b[0;34m\u001b[0m\u001b[0m\n",
            "\u001b[0;32m/usr/local/lib/python3.10/dist-packages/tensorflow/python/eager/execute.py\u001b[0m in \u001b[0;36mquick_execute\u001b[0;34m(op_name, num_outputs, inputs, attrs, ctx, name)\u001b[0m\n\u001b[1;32m     51\u001b[0m   \u001b[0;32mtry\u001b[0m\u001b[0;34m:\u001b[0m\u001b[0;34m\u001b[0m\u001b[0;34m\u001b[0m\u001b[0m\n\u001b[1;32m     52\u001b[0m     \u001b[0mctx\u001b[0m\u001b[0;34m.\u001b[0m\u001b[0mensure_initialized\u001b[0m\u001b[0;34m(\u001b[0m\u001b[0;34m)\u001b[0m\u001b[0;34m\u001b[0m\u001b[0;34m\u001b[0m\u001b[0m\n\u001b[0;32m---> 53\u001b[0;31m     tensors = pywrap_tfe.TFE_Py_Execute(ctx._handle, device_name, op_name,\n\u001b[0m\u001b[1;32m     54\u001b[0m                                         inputs, attrs, num_outputs)\n\u001b[1;32m     55\u001b[0m   \u001b[0;32mexcept\u001b[0m \u001b[0mcore\u001b[0m\u001b[0;34m.\u001b[0m\u001b[0m_NotOkStatusException\u001b[0m \u001b[0;32mas\u001b[0m \u001b[0me\u001b[0m\u001b[0;34m:\u001b[0m\u001b[0;34m\u001b[0m\u001b[0;34m\u001b[0m\u001b[0m\n",
            "\u001b[0;31mInvalidArgumentError\u001b[0m: Graph execution error:\n\nDetected at node compile_loss/sparse_categorical_crossentropy/SparseSoftmaxCrossEntropyWithLogits/SparseSoftmaxCrossEntropyWithLogits defined at (most recent call last):\n  File \"/usr/lib/python3.10/runpy.py\", line 196, in _run_module_as_main\n\n  File \"/usr/lib/python3.10/runpy.py\", line 86, in _run_code\n\n  File \"/usr/local/lib/python3.10/dist-packages/colab_kernel_launcher.py\", line 37, in <module>\n\n  File \"/usr/local/lib/python3.10/dist-packages/traitlets/config/application.py\", line 992, in launch_instance\n\n  File \"/usr/local/lib/python3.10/dist-packages/ipykernel/kernelapp.py\", line 619, in start\n\n  File \"/usr/local/lib/python3.10/dist-packages/tornado/platform/asyncio.py\", line 195, in start\n\n  File \"/usr/lib/python3.10/asyncio/base_events.py\", line 603, in run_forever\n\n  File \"/usr/lib/python3.10/asyncio/base_events.py\", line 1909, in _run_once\n\n  File \"/usr/lib/python3.10/asyncio/events.py\", line 80, in _run\n\n  File \"/usr/local/lib/python3.10/dist-packages/tornado/ioloop.py\", line 685, in <lambda>\n\n  File \"/usr/local/lib/python3.10/dist-packages/tornado/ioloop.py\", line 738, in _run_callback\n\n  File \"/usr/local/lib/python3.10/dist-packages/tornado/gen.py\", line 825, in inner\n\n  File \"/usr/local/lib/python3.10/dist-packages/tornado/gen.py\", line 786, in run\n\n  File \"/usr/local/lib/python3.10/dist-packages/ipykernel/kernelbase.py\", line 361, in process_one\n\n  File \"/usr/local/lib/python3.10/dist-packages/tornado/gen.py\", line 234, in wrapper\n\n  File \"/usr/local/lib/python3.10/dist-packages/ipykernel/kernelbase.py\", line 261, in dispatch_shell\n\n  File \"/usr/local/lib/python3.10/dist-packages/tornado/gen.py\", line 234, in wrapper\n\n  File \"/usr/local/lib/python3.10/dist-packages/ipykernel/kernelbase.py\", line 539, in execute_request\n\n  File \"/usr/local/lib/python3.10/dist-packages/tornado/gen.py\", line 234, in wrapper\n\n  File \"/usr/local/lib/python3.10/dist-packages/ipykernel/ipkernel.py\", line 302, in do_execute\n\n  File \"/usr/local/lib/python3.10/dist-packages/ipykernel/zmqshell.py\", line 539, in run_cell\n\n  File \"/usr/local/lib/python3.10/dist-packages/IPython/core/interactiveshell.py\", line 2975, in run_cell\n\n  File \"/usr/local/lib/python3.10/dist-packages/IPython/core/interactiveshell.py\", line 3030, in _run_cell\n\n  File \"/usr/local/lib/python3.10/dist-packages/IPython/core/async_helpers.py\", line 78, in _pseudo_sync_runner\n\n  File \"/usr/local/lib/python3.10/dist-packages/IPython/core/interactiveshell.py\", line 3257, in run_cell_async\n\n  File \"/usr/local/lib/python3.10/dist-packages/IPython/core/interactiveshell.py\", line 3473, in run_ast_nodes\n\n  File \"/usr/local/lib/python3.10/dist-packages/IPython/core/interactiveshell.py\", line 3553, in run_code\n\n  File \"<ipython-input-29-704ef64e0ec2>\", line 9, in <cell line: 9>\n\n  File \"/usr/local/lib/python3.10/dist-packages/keras/src/utils/traceback_utils.py\", line 117, in error_handler\n\n  File \"/usr/local/lib/python3.10/dist-packages/keras/src/backend/tensorflow/trainer.py\", line 318, in fit\n\n  File \"/usr/local/lib/python3.10/dist-packages/keras/src/backend/tensorflow/trainer.py\", line 121, in one_step_on_iterator\n\n  File \"/usr/local/lib/python3.10/dist-packages/keras/src/backend/tensorflow/trainer.py\", line 108, in one_step_on_data\n\n  File \"/usr/local/lib/python3.10/dist-packages/keras/src/backend/tensorflow/trainer.py\", line 54, in train_step\n\n  File \"/usr/local/lib/python3.10/dist-packages/keras/src/trainers/trainer.py\", line 357, in _compute_loss\n\n  File \"/usr/local/lib/python3.10/dist-packages/keras/src/trainers/trainer.py\", line 325, in compute_loss\n\n  File \"/usr/local/lib/python3.10/dist-packages/keras/src/trainers/compile_utils.py\", line 609, in __call__\n\n  File \"/usr/local/lib/python3.10/dist-packages/keras/src/trainers/compile_utils.py\", line 645, in call\n\n  File \"/usr/local/lib/python3.10/dist-packages/keras/src/losses/loss.py\", line 43, in __call__\n\n  File \"/usr/local/lib/python3.10/dist-packages/keras/src/losses/losses.py\", line 27, in call\n\n  File \"/usr/local/lib/python3.10/dist-packages/keras/src/losses/losses.py\", line 1853, in sparse_categorical_crossentropy\n\n  File \"/usr/local/lib/python3.10/dist-packages/keras/src/ops/nn.py\", line 1567, in sparse_categorical_crossentropy\n\n  File \"/usr/local/lib/python3.10/dist-packages/keras/src/backend/tensorflow/nn.py\", line 645, in sparse_categorical_crossentropy\n\nReceived a label value of -10 which is outside the valid range of [0, 39).  Label values: 8 -7 -1 9 3 -3 -5 -7 -1 17 -3 -10 -1 -9 -6 -2 18 -10 -5 -10 8 -6 -1 -1 -7 -8 -10 -3 12 -9 -6 14 16 -10 5 -7 3 7 -10 -8 -2 -5 11 3 -1 -9 -3 0 -8 -7 -10 -8 -4 -9 -10 12 -9 -7 12 1 -9 20 -10 8 -7 -2 -5 -7 1 -6 -1 3 -3 7 -10 12 -6 -8 -5 -9 -1 8 -9 20 0 -3 12 -9 -6 14 7 -10 10 -7 -7 2 -10 -3 -5 8 -8 -3 -10 4 -7 -2 -9 -10 12 -2 -7 -7 9 -10 -8 -4 -6 -1 -10 -3 -4 -5 -9 1 2 -3 16 -10 -6 2 15 -6 -1 8 -9 7 0 11 -2 -6 15 -9 -10 -8 -5 -8 3 -3 13 0 -8 -4 -9 5 -10 2 -7 -10 2 -5 -3 2 -6 -5 -1 -10 3 -3 -10 4 3 8 -4 -10 11 -9 5 -7 -1 2 -10 -7 3 -2 -10 -8 -4 -7 3 10 -4 -8 -3 7 0 6 -4 -5 8 -4 -8 -9 -2 -10 9 -7 -2 -10 5 -7 3 18 -10 -5 -10 -3 -6 6 17 -8 16 0 0 4 -9 -1 -9 -1 -5 3 -3 13 0 -6 -10 1 -9 -8 -8 -9 -2 -10 9 -7 -2 -10 4 -9 20 -10 -5 -8 -10 10 -5 15 -9 -3 -10 4 -9 -10 -6 -1 -10 -9 -3 -8 -6 -8 -9 -10 -7 9 -10 -3 -9 15 -9 -1 0 5 -9 -6 -2 -3 17 -10 -4 -9 -6 1 -8 -4 18 -10 -5 -1 -10 6 15 -6 1 -9 -2 -5 -6 13 0 -4 -7 6 -10 2 -7 -10 5 -7 3 -10 11 -7 -8 -4 19 -10 5 -7 3 -10 -6 -2 -9 -10 4 -6 -1 -5 9 -9 -3 -8 -10 -4 -7 3 -3 -9 21 14 -9 -9 12 -9 -2 -3 16 0 6 -4 -6 -8 -10 -6 -2 -9 -10 5 -7 3 -10 -3 -9 6 -5 -1 10 -10 -4 -9 -2 -9 19 -10 -6 -10 9 -5 -1 -9 -10 -3 12 -7 -8 7 -10 -5 -1 -10 -1 2 -10 -6 -3 -10 6 -4 -9 -1 -10 -5 -10 6 -7 -7 17 2 7 -10 -5 -1 -10 -4 -9 -6 -2 -8 0 -6 -3 -10 4 -9 -2 -2 5 -10 -6 -3 -10 6 -4 -9 -1 -10 -7 3 -2 -10 -1 3 12 -8 -5 -6 1 -10 2 -6 5 -10 6 -6 -3 -10 2 -7 -1 -9 7 0 -6 -1 2 -10 -8 -6 ...\n\t [[{{node compile_loss/sparse_categorical_crossentropy/SparseSoftmaxCrossEntropyWithLogits/SparseSoftmaxCrossEntropyWithLogits}}]] [Op:__inference_one_step_on_iterator_3751]"
          ]
        }
      ]
    }
  ],
  "metadata": {
    "language_info": {
      "name": "python"
    },
    "colab": {
      "provenance": []
    },
    "kernelspec": {
      "name": "python3",
      "display_name": "Python 3"
    }
  },
  "nbformat": 4,
  "nbformat_minor": 0
}